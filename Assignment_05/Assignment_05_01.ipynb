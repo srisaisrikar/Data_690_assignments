{
  "nbformat": 4,
  "nbformat_minor": 0,
  "metadata": {
    "colab": {
      "provenance": [],
      "authorship_tag": "ABX9TyMva4bArdXJ70UHXf8LjQ4n",
      "include_colab_link": true
    },
    "kernelspec": {
      "name": "python3",
      "display_name": "Python 3"
    },
    "language_info": {
      "name": "python"
    }
  },
  "cells": [
    {
      "cell_type": "markdown",
      "metadata": {
        "id": "view-in-github",
        "colab_type": "text"
      },
      "source": [
        "<a href=\"https://colab.research.google.com/github/srisaisrikar/Data_690_assignments/blob/main/Assignment_05/Assignment_05_01.ipynb\" target=\"_parent\"><img src=\"https://colab.research.google.com/assets/colab-badge.svg\" alt=\"Open In Colab\"/></a>"
      ]
    },
    {
      "cell_type": "markdown",
      "source": [
        "# Assignment_05_01\n",
        "\n",
        "Name: Sri Sai Srikar Bollapragada\n",
        "\n",
        "Date: 10/02/2020"
      ],
      "metadata": {
        "id": "OM1Gen_E7DxT"
      }
    },
    {
      "cell_type": "markdown",
      "source": [
        "## What is Data Analysis?\n",
        "\n",
        "As per Wikipedia, Data Analysis is defined as \"An examination, cleansing, transformation, and modeling of data with the objective of uncovering usable information, informing conclusions, and assisting decision-making.\""
      ],
      "metadata": {
        "id": "MXrUqCY17YIi"
      }
    },
    {
      "cell_type": "markdown",
      "source": [
        "## DATA ANALYSIS TOOLS:\n",
        "\n",
        "\n",
        "* Auto-Managed Closed Tools: Qlik, Tableau, Looker, Zoho Analytics\n",
        "\n",
        "\n",
        "* Programming Languages/Open tools: Python, R, Julia  \n",
        "\n"
      ],
      "metadata": {
        "id": "W4vYbJoj7o99"
      }
    },
    {
      "cell_type": "markdown",
      "source": [
        "### Advantages/Disadvantages of Auto-Managed Closed Tools:\n",
        "\n",
        "- Pros: Easy to handle things in more professional way\n",
        "\n",
        "- Cons: Closed source, cost-effective, minimalized\n",
        "\n",
        "### Advantages/Disadvantages of Auto-Managed Closed Tools:\n",
        "\n",
        "- Pros: Open source, free, extremely powerful\n",
        "\n",
        "- Cons: Steep learning curve"
      ],
      "metadata": {
        "id": "m12PR3767o5z"
      }
    },
    {
      "cell_type": "markdown",
      "source": [
        "### Why Python is used for Data Analysis?\n",
        "- It is easy to Understand and having powerful libraries (not just for data analysis)\n",
        "\n",
        "- free and open source."
      ],
      "metadata": {
        "id": "xWJEPzHA7o1s"
      }
    },
    {
      "cell_type": "markdown",
      "source": [
        "### R Language !! But, When ??\n",
        "\n",
        "- It creates a framework that can translate Python objects into R objects, pass them into R functions, and convert R output back into Python objects.\n",
        "\n",
        "- One advantage of using R within Python is that we would able to use R's awesome packages like ggplot2, tidyr, dplyr et al. easily in Python."
      ],
      "metadata": {
        "id": "Q-yKIG6o7oxr"
      }
    },
    {
      "cell_type": "markdown",
      "source": [
        "### The Data Analysis Process\n",
        "- Data Extraction\n",
        "- Data Cleaning \n",
        "- Data Wrangling \n",
        "- Analysis \n",
        "- Action"
      ],
      "metadata": {
        "id": "EWDo1BIJ7ot9"
      }
    },
    {
      "cell_type": "markdown",
      "source": [
        "### Python Libraries:\n",
        "\n",
        "- pandas: The cornerstone of our Data Analysis job with Python matplotlib: The foundational library for visualizations. Other libraries we’ll use will be built on top of matplotlib.\n",
        "\n",
        "- numpy: The numeric library that serves as the foundation of all calculations in Python.\n",
        "\n",
        "- seaborn: A statistical visualization tool built on top of matplotlib.\n",
        "\n",
        "- statsmodels: A library with many advanced statistical functions.\n",
        "\n",
        "- scipy: Advanced scientific computing, including functions for optimization, linear algebra, image processing and much more.\n",
        "\n",
        "- scikit-learn: The most popular machine learning library for Python (not deep learning)"
      ],
      "metadata": {
        "id": "jQaTUH4N7opj"
      }
    }
  ]
}