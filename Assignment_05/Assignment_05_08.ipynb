{
  "nbformat": 4,
  "nbformat_minor": 0,
  "metadata": {
    "colab": {
      "provenance": [],
      "collapsed_sections": [],
      "include_colab_link": true
    },
    "kernelspec": {
      "name": "python3",
      "display_name": "Python 3"
    },
    "language_info": {
      "name": "python"
    }
  },
  "cells": [
    {
      "cell_type": "markdown",
      "metadata": {
        "id": "view-in-github",
        "colab_type": "text"
      },
      "source": [
        "<a href=\"https://colab.research.google.com/github/srisaisrikar/Data_690_assignments/blob/main/Assignment_05/Assignment_05_08.ipynb\" target=\"_parent\"><img src=\"https://colab.research.google.com/assets/colab-badge.svg\" alt=\"Open In Colab\"/></a>"
      ]
    },
    {
      "cell_type": "markdown",
      "source": [
        "# Part 8: Python Recap"
      ],
      "metadata": {
        "id": "tyZnUgpGkSwX"
      }
    },
    {
      "cell_type": "markdown",
      "source": [
        "- Python is multi-paradigm: you can write code using Object Oriented, Functional and/or Imperative programming. Python is interpreted and uses a dynamic type system, although considered strongly typed.\n",
        "\n",
        "- It has an extensive builtin standard library with features that ranges from time management, to http servers, concurrency and async programming."
      ],
      "metadata": {
        "id": "x4njxa87kVQ2"
      }
    },
    {
      "cell_type": "markdown",
      "source": [
        "#Indentation based\n",
        "\n",
        "This might feel weird at first, but in Python we do NOT use curly braces to denote blocks of code. We use \"indentation\" instead. This is similar to Ruby. For example, this is a very simple add_numbers function in javascript:\n",
        "\n",
        "function add_numbers(x, y){\n",
        "    return x + y\n",
        "}\n",
        "In Python, we'd write it in this way:"
      ],
      "metadata": {
        "id": "-8HJ-kfxyKm1"
      }
    },
    {
      "cell_type": "code",
      "source": [
        "def add_numbers(x, y):\n",
        "    return x + y"
      ],
      "metadata": {
        "id": "x73fpCK2aEPz"
      },
      "execution_count": 6,
      "outputs": []
    },
    {
      "cell_type": "code",
      "source": [
        "language = \"Python\"\n",
        "\n",
        "if language == \"Python\":\n",
        "    print(\"Let the fun begin!\")\n",
        "else:\n",
        "    print(\"You sure?\")"
      ],
      "metadata": {
        "colab": {
          "base_uri": "https://localhost:8080/"
        },
        "id": "kfqCjjzYbGlI",
        "outputId": "6a0888d8-5610-4bd5-9bb0-13caa704d07c"
      },
      "execution_count": 7,
      "outputs": [
        {
          "output_type": "stream",
          "name": "stdout",
          "text": [
            "Let the fun begin!\n"
          ]
        }
      ]
    },
    {
      "cell_type": "markdown",
      "source": [
        "#Comments\n"
      ],
      "metadata": {
        "id": "monUCmFEbJuN"
      }
    },
    {
      "cell_type": "code",
      "source": [
        "# this is a comment"
      ],
      "metadata": {
        "id": "0AzhWxFpbXLV"
      },
      "execution_count": 8,
      "outputs": []
    },
    {
      "cell_type": "code",
      "source": [
        "# it doesn't produce any output"
      ],
      "metadata": {
        "id": "xJgz_5o4bYMj"
      },
      "execution_count": 9,
      "outputs": []
    },
    {
      "cell_type": "code",
      "source": [
        "# can be above...\n",
        "print(\"Hello World\")  # next to...\n",
        "# or below your code"
      ],
      "metadata": {
        "colab": {
          "base_uri": "https://localhost:8080/"
        },
        "id": "uwCXxQGRbasM",
        "outputId": "5a3e3f6c-040c-4e9d-c5a4-3bb911d3897b"
      },
      "execution_count": 10,
      "outputs": [
        {
          "output_type": "stream",
          "name": "stdout",
          "text": [
            "Hello World\n"
          ]
        }
      ]
    },
    {
      "cell_type": "markdown",
      "source": [
        "###Variables\n",
        "We've defined a variable language in one of our previous examples. In Python, you can set a variable at any time, in any block of code, by just assigning a valid name to any value you want:"
      ],
      "metadata": {
        "id": "ZfYAOsrtbjYu"
      }
    },
    {
      "cell_type": "code",
      "source": [
        "name = \"Mary\"\n",
        "print(name)"
      ],
      "metadata": {
        "colab": {
          "base_uri": "https://localhost:8080/"
        },
        "id": "fmhswThdb4_n",
        "outputId": "f2990773-2e9f-442b-91c1-a07956a22b67"
      },
      "execution_count": 11,
      "outputs": [
        {
          "output_type": "stream",
          "name": "stdout",
          "text": [
            "Mary\n"
          ]
        }
      ]
    },
    {
      "cell_type": "code",
      "source": [
        "age = 30\n",
        "print(age)"
      ],
      "metadata": {
        "colab": {
          "base_uri": "https://localhost:8080/"
        },
        "id": "1JXjs_Zzb8AZ",
        "outputId": "d243bf2d-4ad5-4839-d968-716df52bafaa"
      },
      "execution_count": 12,
      "outputs": [
        {
          "output_type": "stream",
          "name": "stdout",
          "text": [
            "30\n"
          ]
        }
      ]
    },
    {
      "cell_type": "markdown",
      "source": [
        "Once set, variables are preserved"
      ],
      "metadata": {
        "id": "QS9Q3EXIcA8T"
      }
    },
    {
      "cell_type": "code",
      "source": [
        "print(name, \"is\", age, \"years old\")"
      ],
      "metadata": {
        "colab": {
          "base_uri": "https://localhost:8080/"
        },
        "id": "8fxwQgFVcCvS",
        "outputId": "9f73ae71-a350-480f-d810-5bbf69a54360"
      },
      "execution_count": 13,
      "outputs": [
        {
          "output_type": "stream",
          "name": "stdout",
          "text": [
            "Mary is 30 years old\n"
          ]
        }
      ]
    },
    {
      "cell_type": "markdown",
      "source": [
        "##Data Types\n",
        "###Integers ,type int:\n",
        "\n",
        "Integers have unlimited magnitude."
      ],
      "metadata": {
        "id": "8xtHLtX9cKTW"
      }
    },
    {
      "cell_type": "code",
      "source": [
        "age = 30"
      ],
      "metadata": {
        "id": "nxxDmp7wcPz0"
      },
      "execution_count": 14,
      "outputs": []
    },
    {
      "cell_type": "code",
      "source": [
        "type(age)"
      ],
      "metadata": {
        "colab": {
          "base_uri": "https://localhost:8080/"
        },
        "id": "hS_IEalTceac",
        "outputId": "35cda0ab-e1e6-40af-bdf3-7183a6028f73"
      },
      "execution_count": 15,
      "outputs": [
        {
          "output_type": "execute_result",
          "data": {
            "text/plain": [
              "int"
            ]
          },
          "metadata": {},
          "execution_count": 15
        }
      ]
    },
    {
      "cell_type": "markdown",
      "source": [
        "#Floats ,type float\n",
        "\n",
        "The standard floating point number"
      ],
      "metadata": {
        "id": "6_M_SBHScmpR"
      }
    },
    {
      "cell_type": "code",
      "source": [
        "price = 2.50"
      ],
      "metadata": {
        "id": "KUtIywyucrtw"
      },
      "execution_count": 16,
      "outputs": []
    },
    {
      "cell_type": "code",
      "source": [
        "price"
      ],
      "metadata": {
        "colab": {
          "base_uri": "https://localhost:8080/"
        },
        "id": "piEed0sXcvcd",
        "outputId": "81369dd8-6fc3-458c-9263-71eeef9899c8"
      },
      "execution_count": 17,
      "outputs": [
        {
          "output_type": "execute_result",
          "data": {
            "text/plain": [
              "2.5"
            ]
          },
          "metadata": {},
          "execution_count": 17
        }
      ]
    },
    {
      "cell_type": "code",
      "source": [
        "type(price)"
      ],
      "metadata": {
        "colab": {
          "base_uri": "https://localhost:8080/"
        },
        "id": "1VSswRHBcxtf",
        "outputId": "3595af4a-e463-47d8-9cf1-bacc99f56036"
      },
      "execution_count": 18,
      "outputs": [
        {
          "output_type": "execute_result",
          "data": {
            "text/plain": [
              "float"
            ]
          },
          "metadata": {},
          "execution_count": 18
        }
      ]
    },
    {
      "cell_type": "code",
      "source": [
        "0.1 * 3"
      ],
      "metadata": {
        "colab": {
          "base_uri": "https://localhost:8080/"
        },
        "id": "N6ld8kvkc0Jl",
        "outputId": "34ef4c9a-5b2e-4957-c21e-91f5ada74474"
      },
      "execution_count": 19,
      "outputs": [
        {
          "output_type": "execute_result",
          "data": {
            "text/plain": [
              "0.30000000000000004"
            ]
          },
          "metadata": {},
          "execution_count": 19
        }
      ]
    },
    {
      "cell_type": "code",
      "source": [
        "from decimal import Decimal"
      ],
      "metadata": {
        "id": "h4iKTDWAc3Hz"
      },
      "execution_count": 20,
      "outputs": []
    },
    {
      "cell_type": "code",
      "source": [
        "Decimal('0.1') * 3"
      ],
      "metadata": {
        "colab": {
          "base_uri": "https://localhost:8080/"
        },
        "id": "gnBzgBdHc9Yl",
        "outputId": "070f9a4c-0016-4dab-82c9-a212609dbaa7"
      },
      "execution_count": 21,
      "outputs": [
        {
          "output_type": "execute_result",
          "data": {
            "text/plain": [
              "Decimal('0.3')"
            ]
          },
          "metadata": {},
          "execution_count": 21
        }
      ]
    },
    {
      "cell_type": "markdown",
      "source": [
        "#Strings ,type str\n",
        "\n",
        "Strings are used to store text. Technically, they're \"immutable sequences of Unicode code points\". Which means that Python supports Unicode:\n"
      ],
      "metadata": {
        "id": "Uqz6Sw96dBdn"
      }
    },
    {
      "cell_type": "code",
      "source": [
        "print(\"Hello unicode\")"
      ],
      "metadata": {
        "colab": {
          "base_uri": "https://localhost:8080/"
        },
        "id": "5WHktM8fdDoT",
        "outputId": "7e86fbe7-0ee4-473a-c474-ffb80bc6f696"
      },
      "execution_count": 22,
      "outputs": [
        {
          "output_type": "stream",
          "name": "stdout",
          "text": [
            "Hello unicode\n"
          ]
        }
      ]
    },
    {
      "cell_type": "code",
      "source": [
        "print('Omelette Du Fromage')"
      ],
      "metadata": {
        "colab": {
          "base_uri": "https://localhost:8080/"
        },
        "id": "V17wDVMWdFqB",
        "outputId": "cc7286f9-2fdb-4dab-f951-bceb343a9a47"
      },
      "execution_count": 23,
      "outputs": [
        {
          "output_type": "stream",
          "name": "stdout",
          "text": [
            "Omelette Du Fromage\n"
          ]
        }
      ]
    },
    {
      "cell_type": "code",
      "source": [
        "type('Hello World')"
      ],
      "metadata": {
        "colab": {
          "base_uri": "https://localhost:8080/"
        },
        "id": "UpwiP_N1dIdf",
        "outputId": "861913d0-4d1f-4348-c153-3bc4a910414c"
      },
      "execution_count": 24,
      "outputs": [
        {
          "output_type": "execute_result",
          "data": {
            "text/plain": [
              "str"
            ]
          },
          "metadata": {},
          "execution_count": 24
        }
      ]
    },
    {
      "cell_type": "code",
      "source": [
        "len(\"Hello\")"
      ],
      "metadata": {
        "colab": {
          "base_uri": "https://localhost:8080/"
        },
        "id": "LVTYOycIdLWF",
        "outputId": "30accf3f-b325-47d9-c5a5-236fa0490501"
      },
      "execution_count": 25,
      "outputs": [
        {
          "output_type": "execute_result",
          "data": {
            "text/plain": [
              "5"
            ]
          },
          "metadata": {},
          "execution_count": 25
        }
      ]
    },
    {
      "cell_type": "code",
      "source": [
        "joke = \"\"\"\n",
        "Me: What's the best thing about Switzerland?\n",
        "Friend: I don't know. What?\n",
        "Me: I don't know, but the flag is a big plus.\n",
        "F: :(\n",
        "\"\"\"\n",
        "\n",
        "print(joke)"
      ],
      "metadata": {
        "colab": {
          "base_uri": "https://localhost:8080/"
        },
        "id": "4S5xy9eedOCY",
        "outputId": "b97afb7b-ce4a-490c-f64e-2fa3a3dd2f7b"
      },
      "execution_count": 26,
      "outputs": [
        {
          "output_type": "stream",
          "name": "stdout",
          "text": [
            "\n",
            "Me: What's the best thing about Switzerland?\n",
            "Friend: I don't know. What?\n",
            "Me: I don't know, but the flag is a big plus.\n",
            "F: :(\n",
            "\n"
          ]
        }
      ]
    },
    {
      "cell_type": "markdown",
      "source": [
        "#Booleans,type bool"
      ],
      "metadata": {
        "id": "IOgQeSvYdTP1"
      }
    },
    {
      "cell_type": "code",
      "source": [
        "True"
      ],
      "metadata": {
        "colab": {
          "base_uri": "https://localhost:8080/"
        },
        "id": "UEg2u55XdW_N",
        "outputId": "c01578b9-e3ee-4062-e4e3-71a9980997b9"
      },
      "execution_count": 27,
      "outputs": [
        {
          "output_type": "execute_result",
          "data": {
            "text/plain": [
              "True"
            ]
          },
          "metadata": {},
          "execution_count": 27
        }
      ]
    },
    {
      "cell_type": "code",
      "source": [
        "type(False)"
      ],
      "metadata": {
        "colab": {
          "base_uri": "https://localhost:8080/"
        },
        "id": "hBnOuYgidZs4",
        "outputId": "cbc76bd9-623e-49b2-c6ea-99b6d5a94c3c"
      },
      "execution_count": 28,
      "outputs": [
        {
          "output_type": "execute_result",
          "data": {
            "text/plain": [
              "bool"
            ]
          },
          "metadata": {},
          "execution_count": 28
        }
      ]
    },
    {
      "cell_type": "markdown",
      "source": [
        "#None, type NoneType"
      ],
      "metadata": {
        "id": "T9SPMBJsdd4Z"
      }
    },
    {
      "cell_type": "code",
      "source": [
        "x = None"
      ],
      "metadata": {
        "id": "rAFWGXDrdhKq"
      },
      "execution_count": 29,
      "outputs": []
    },
    {
      "cell_type": "code",
      "source": [
        "x"
      ],
      "metadata": {
        "id": "fW9fEkeKdiyW"
      },
      "execution_count": 30,
      "outputs": []
    },
    {
      "cell_type": "code",
      "source": [
        "print(x)"
      ],
      "metadata": {
        "colab": {
          "base_uri": "https://localhost:8080/"
        },
        "id": "KQP-WnSFdj5n",
        "outputId": "cc6ca5d8-e701-44da-93a7-825a425565bc"
      },
      "execution_count": 31,
      "outputs": [
        {
          "output_type": "stream",
          "name": "stdout",
          "text": [
            "None\n"
          ]
        }
      ]
    },
    {
      "cell_type": "code",
      "source": [
        "type(None)"
      ],
      "metadata": {
        "colab": {
          "base_uri": "https://localhost:8080/"
        },
        "id": "xogAKhRGdmxF",
        "outputId": "c0c23d58-ac33-4d18-9e5e-666709ea853a"
      },
      "execution_count": 32,
      "outputs": [
        {
          "output_type": "execute_result",
          "data": {
            "text/plain": [
              "NoneType"
            ]
          },
          "metadata": {},
          "execution_count": 32
        }
      ]
    },
    {
      "cell_type": "markdown",
      "source": [
        "#int, float, str, and bool objects and functions"
      ],
      "metadata": {
        "id": "x3FP56APdsxL"
      }
    },
    {
      "cell_type": "code",
      "source": [
        "age_as_string = \"28\"\n"
      ],
      "metadata": {
        "id": "1vpdK7_0duV3"
      },
      "execution_count": 33,
      "outputs": []
    },
    {
      "cell_type": "code",
      "source": [
        "type(age_as_string)"
      ],
      "metadata": {
        "colab": {
          "base_uri": "https://localhost:8080/"
        },
        "id": "a9rhpr2gdwYH",
        "outputId": "4b4c6593-4f53-4960-a6ff-3ddf11fcf6c6"
      },
      "execution_count": 34,
      "outputs": [
        {
          "output_type": "execute_result",
          "data": {
            "text/plain": [
              "str"
            ]
          },
          "metadata": {},
          "execution_count": 34
        }
      ]
    },
    {
      "cell_type": "code",
      "source": [
        "int(age_as_string)"
      ],
      "metadata": {
        "colab": {
          "base_uri": "https://localhost:8080/"
        },
        "id": "Ry3-ZGkrd0ff",
        "outputId": "e8ea5fae-0c04-484c-997b-accb7ff98b51"
      },
      "execution_count": 35,
      "outputs": [
        {
          "output_type": "execute_result",
          "data": {
            "text/plain": [
              "28"
            ]
          },
          "metadata": {},
          "execution_count": 35
        }
      ]
    },
    {
      "cell_type": "code",
      "source": [
        "age = int(age_as_string)"
      ],
      "metadata": {
        "id": "A6a4OFx8d1pH"
      },
      "execution_count": 36,
      "outputs": []
    },
    {
      "cell_type": "code",
      "source": [
        "type(age)"
      ],
      "metadata": {
        "colab": {
          "base_uri": "https://localhost:8080/"
        },
        "id": "_D-0ASXrd46c",
        "outputId": "70e56fce-6a1c-49b9-ee43-da9392773b5f"
      },
      "execution_count": 37,
      "outputs": [
        {
          "output_type": "execute_result",
          "data": {
            "text/plain": [
              "int"
            ]
          },
          "metadata": {},
          "execution_count": 37
        }
      ]
    },
    {
      "cell_type": "code",
      "source": [
        "type(13) == int"
      ],
      "metadata": {
        "colab": {
          "base_uri": "https://localhost:8080/"
        },
        "id": "cmzPSyogd7B-",
        "outputId": "a277945c-7044-4d70-8022-cdbbf02beab1"
      },
      "execution_count": 38,
      "outputs": [
        {
          "output_type": "execute_result",
          "data": {
            "text/plain": [
              "True"
            ]
          },
          "metadata": {},
          "execution_count": 38
        }
      ]
    },
    {
      "cell_type": "markdown",
      "source": [
        "#Functions"
      ],
      "metadata": {
        "id": "TbSvBzMud9rg"
      }
    },
    {
      "cell_type": "code",
      "source": [
        "def hello():\n",
        "    return \"Hello World\""
      ],
      "metadata": {
        "id": "pOAKU_uvd_2h"
      },
      "execution_count": 39,
      "outputs": []
    },
    {
      "cell_type": "code",
      "source": [
        "result = hello()"
      ],
      "metadata": {
        "id": "7ijr_kGJeGBA"
      },
      "execution_count": 40,
      "outputs": []
    },
    {
      "cell_type": "code",
      "source": [
        "result"
      ],
      "metadata": {
        "colab": {
          "base_uri": "https://localhost:8080/",
          "height": 36
        },
        "id": "XMUTq1BOeHPW",
        "outputId": "c7f4d616-918e-4448-c461-3d6fdb9de31b"
      },
      "execution_count": 41,
      "outputs": [
        {
          "output_type": "execute_result",
          "data": {
            "text/plain": [
              "'Hello World'"
            ],
            "application/vnd.google.colaboratory.intrinsic+json": {
              "type": "string"
            }
          },
          "metadata": {},
          "execution_count": 41
        }
      ]
    },
    {
      "cell_type": "markdown",
      "source": [
        "#Functions without return statements return None by default"
      ],
      "metadata": {
        "id": "_oLbvak0eM33"
      }
    },
    {
      "cell_type": "code",
      "source": [
        "def empty():\n",
        "    x = 3"
      ],
      "metadata": {
        "id": "C3BF36lneOkr"
      },
      "execution_count": 42,
      "outputs": []
    },
    {
      "cell_type": "code",
      "source": [
        "result= empty()"
      ],
      "metadata": {
        "id": "N_whP22IeQ1g"
      },
      "execution_count": 43,
      "outputs": []
    },
    {
      "cell_type": "code",
      "source": [
        "print(result)"
      ],
      "metadata": {
        "colab": {
          "base_uri": "https://localhost:8080/"
        },
        "id": "h2I8ztCHeS53",
        "outputId": "1fcf1839-0c61-4334-fe8e-87e296e70ac0"
      },
      "execution_count": 44,
      "outputs": [
        {
          "output_type": "stream",
          "name": "stdout",
          "text": [
            "None\n"
          ]
        }
      ]
    },
    {
      "cell_type": "markdown",
      "source": [
        "###Receiving parameters"
      ],
      "metadata": {
        "id": "8yxz_nh5eWkj"
      }
    },
    {
      "cell_type": "code",
      "source": [
        "def add(x, y):\n",
        "    return x + y\n"
      ],
      "metadata": {
        "id": "rpCn9WITeYQX"
      },
      "execution_count": 45,
      "outputs": []
    },
    {
      "cell_type": "code",
      "source": [
        "add(2, 3)"
      ],
      "metadata": {
        "colab": {
          "base_uri": "https://localhost:8080/"
        },
        "id": "pMPDgpRIea3Y",
        "outputId": "923f1e42-f046-4507-a45f-56af88c2474d"
      },
      "execution_count": 46,
      "outputs": [
        {
          "output_type": "execute_result",
          "data": {
            "text/plain": [
              "5"
            ]
          },
          "metadata": {},
          "execution_count": 46
        }
      ]
    },
    {
      "cell_type": "code",
      "source": [
        "def add(*args):\n",
        "    return sum(args)\n"
      ],
      "metadata": {
        "id": "P2h80dnBeeZA"
      },
      "execution_count": 47,
      "outputs": []
    },
    {
      "cell_type": "code",
      "source": [
        "add(1, 1, 1)"
      ],
      "metadata": {
        "colab": {
          "base_uri": "https://localhost:8080/"
        },
        "id": "iYAR6bJpefpj",
        "outputId": "88630308-00bc-4195-8271-ec31fb711031"
      },
      "execution_count": 48,
      "outputs": [
        {
          "output_type": "execute_result",
          "data": {
            "text/plain": [
              "3"
            ]
          },
          "metadata": {},
          "execution_count": 48
        }
      ]
    },
    {
      "cell_type": "code",
      "source": [
        "add(1)"
      ],
      "metadata": {
        "colab": {
          "base_uri": "https://localhost:8080/"
        },
        "id": "QqCiZxghehvi",
        "outputId": "979975c7-5512-4f5d-c7b5-d7a06e633703"
      },
      "execution_count": 49,
      "outputs": [
        {
          "output_type": "execute_result",
          "data": {
            "text/plain": [
              "1"
            ]
          },
          "metadata": {},
          "execution_count": 49
        }
      ]
    },
    {
      "cell_type": "markdown",
      "source": [
        "#Operators\n",
        "##Arithmetic operators"
      ],
      "metadata": {
        "id": "F0UzO224ekLP"
      }
    },
    {
      "cell_type": "code",
      "source": [
        "3 + 3"
      ],
      "metadata": {
        "colab": {
          "base_uri": "https://localhost:8080/"
        },
        "id": "lZvZNZiYem-s",
        "outputId": "6a9b134d-ea5f-4256-dba8-b4a8168d1b5c"
      },
      "execution_count": 50,
      "outputs": [
        {
          "output_type": "execute_result",
          "data": {
            "text/plain": [
              "6"
            ]
          },
          "metadata": {},
          "execution_count": 50
        }
      ]
    },
    {
      "cell_type": "code",
      "source": [
        "11 % 7"
      ],
      "metadata": {
        "colab": {
          "base_uri": "https://localhost:8080/"
        },
        "id": "a6BgKQ3CeqQZ",
        "outputId": "59113e68-8c71-495c-f8c1-b6643843b1b0"
      },
      "execution_count": 51,
      "outputs": [
        {
          "output_type": "execute_result",
          "data": {
            "text/plain": [
              "4"
            ]
          },
          "metadata": {},
          "execution_count": 51
        }
      ]
    },
    {
      "cell_type": "code",
      "source": [
        "2 ** 4"
      ],
      "metadata": {
        "colab": {
          "base_uri": "https://localhost:8080/"
        },
        "id": "wbICF5-GetJW",
        "outputId": "2b51c4c4-e5a7-44b8-960d-53e129974d49"
      },
      "execution_count": 52,
      "outputs": [
        {
          "output_type": "execute_result",
          "data": {
            "text/plain": [
              "16"
            ]
          },
          "metadata": {},
          "execution_count": 52
        }
      ]
    },
    {
      "cell_type": "markdown",
      "source": [
        "Precedence is similar to normal arithmetic"
      ],
      "metadata": {
        "id": "bTAhdvtgexLW"
      }
    },
    {
      "cell_type": "code",
      "source": [
        "3 + 4 * 5"
      ],
      "metadata": {
        "colab": {
          "base_uri": "https://localhost:8080/"
        },
        "id": "0yZDPo_teyCa",
        "outputId": "1a038372-30b5-4d8d-e585-573bed8f455a"
      },
      "execution_count": 53,
      "outputs": [
        {
          "output_type": "execute_result",
          "data": {
            "text/plain": [
              "23"
            ]
          },
          "metadata": {},
          "execution_count": 53
        }
      ]
    },
    {
      "cell_type": "code",
      "source": [
        "3 + 4 * 2**3"
      ],
      "metadata": {
        "colab": {
          "base_uri": "https://localhost:8080/"
        },
        "id": "4RkDSnFwe0I6",
        "outputId": "7008e52c-488b-4154-a132-790e81264821"
      },
      "execution_count": 54,
      "outputs": [
        {
          "output_type": "execute_result",
          "data": {
            "text/plain": [
              "35"
            ]
          },
          "metadata": {},
          "execution_count": 54
        }
      ]
    },
    {
      "cell_type": "markdown",
      "source": [
        "#Boolean operators"
      ],
      "metadata": {
        "id": "QfDhOFeKe3JX"
      }
    },
    {
      "cell_type": "code",
      "source": [
        "7 > 3"
      ],
      "metadata": {
        "colab": {
          "base_uri": "https://localhost:8080/"
        },
        "id": "GG6F_BFJe43h",
        "outputId": "fb6ebfe2-8dbd-4ae7-e340-621bf39ae21b"
      },
      "execution_count": 55,
      "outputs": [
        {
          "output_type": "execute_result",
          "data": {
            "text/plain": [
              "True"
            ]
          },
          "metadata": {},
          "execution_count": 55
        }
      ]
    },
    {
      "cell_type": "code",
      "source": [
        "8 >= 8"
      ],
      "metadata": {
        "colab": {
          "base_uri": "https://localhost:8080/"
        },
        "id": "owvNNqv4e6vO",
        "outputId": "2d61ca9f-df2d-4f51-ff02-540dff40cb04"
      },
      "execution_count": 56,
      "outputs": [
        {
          "output_type": "execute_result",
          "data": {
            "text/plain": [
              "True"
            ]
          },
          "metadata": {},
          "execution_count": 56
        }
      ]
    },
    {
      "cell_type": "markdown",
      "source": [
        "Python is strongly typed, so different types cannot be compared"
      ],
      "metadata": {
        "id": "-fT704xie-V1"
      }
    },
    {
      "cell_type": "code",
      "source": [
        "\"8\" > \"abc\""
      ],
      "metadata": {
        "colab": {
          "base_uri": "https://localhost:8080/"
        },
        "id": "x0L9TnZbe_iK",
        "outputId": "752a0355-5d92-4fa5-e91a-8bd110f8024c"
      },
      "execution_count": 57,
      "outputs": [
        {
          "output_type": "execute_result",
          "data": {
            "text/plain": [
              "False"
            ]
          },
          "metadata": {},
          "execution_count": 57
        }
      ]
    },
    {
      "cell_type": "code",
      "source": [
        "True and True"
      ],
      "metadata": {
        "colab": {
          "base_uri": "https://localhost:8080/"
        },
        "id": "ZxZ-ncVmfEQW",
        "outputId": "d9702150-f4bc-4a1c-b92d-973e10f7f3f5"
      },
      "execution_count": 58,
      "outputs": [
        {
          "output_type": "execute_result",
          "data": {
            "text/plain": [
              "True"
            ]
          },
          "metadata": {},
          "execution_count": 58
        }
      ]
    },
    {
      "cell_type": "code",
      "source": [
        "not False"
      ],
      "metadata": {
        "colab": {
          "base_uri": "https://localhost:8080/"
        },
        "id": "pyy9jDhifGHQ",
        "outputId": "94aecb84-df0e-43dc-b96a-76f15cc85574"
      },
      "execution_count": 59,
      "outputs": [
        {
          "output_type": "execute_result",
          "data": {
            "text/plain": [
              "True"
            ]
          },
          "metadata": {},
          "execution_count": 59
        }
      ]
    },
    {
      "cell_type": "code",
      "source": [
        "False or True"
      ],
      "metadata": {
        "colab": {
          "base_uri": "https://localhost:8080/"
        },
        "id": "iFVR2wKZfHVy",
        "outputId": "d1511970-492e-448e-953b-163f21cef8c1"
      },
      "execution_count": 60,
      "outputs": [
        {
          "output_type": "execute_result",
          "data": {
            "text/plain": [
              "True"
            ]
          },
          "metadata": {},
          "execution_count": 60
        }
      ]
    },
    {
      "cell_type": "markdown",
      "source": [
        "#Control Flow\n",
        "##If/else/elif statements"
      ],
      "metadata": {
        "id": "CcsMoFdXfL6F"
      }
    },
    {
      "cell_type": "code",
      "source": [
        "days_subscribed = 28\n"
      ],
      "metadata": {
        "id": "ggKWTKpIfPas"
      },
      "execution_count": 61,
      "outputs": []
    },
    {
      "cell_type": "code",
      "source": [
        "if days_subscribed >= 30:\n",
        "    print(\"Loyal customer\")\n",
        "elif days_subscribed >= 15:\n",
        "    print(\"Halfway there\")\n",
        "elif days_subscribed >= 1:\n",
        "    print(\"Builfing confidence\")\n",
        "else:\n",
        "    print(\"Too early\")"
      ],
      "metadata": {
        "colab": {
          "base_uri": "https://localhost:8080/"
        },
        "id": "I5AiFMmZfQK_",
        "outputId": "e7032f98-85d9-4681-d08f-687089842761"
      },
      "execution_count": 62,
      "outputs": [
        {
          "output_type": "stream",
          "name": "stdout",
          "text": [
            "Halfway there\n"
          ]
        }
      ]
    },
    {
      "cell_type": "markdown",
      "source": [
        "#For loops"
      ],
      "metadata": {
        "id": "xYDKQfg3fTNT"
      }
    },
    {
      "cell_type": "code",
      "source": [
        "names = ['Monica', 'Ross', 'Chandler', 'Rachel']\n"
      ],
      "metadata": {
        "id": "7oHIlTdTfUim"
      },
      "execution_count": 63,
      "outputs": []
    },
    {
      "cell_type": "code",
      "source": [
        "for name in names:\n",
        "    print(name)"
      ],
      "metadata": {
        "colab": {
          "base_uri": "https://localhost:8080/"
        },
        "id": "4Muk0mCGfXRP",
        "outputId": "b3e0e8a3-f540-4d74-ead9-12ade50f5c15"
      },
      "execution_count": 64,
      "outputs": [
        {
          "output_type": "stream",
          "name": "stdout",
          "text": [
            "Monica\n",
            "Ross\n",
            "Chandler\n",
            "Rachel\n"
          ]
        }
      ]
    },
    {
      "cell_type": "markdown",
      "source": [
        "#While loops"
      ],
      "metadata": {
        "id": "6gDiJdaJfafS"
      }
    },
    {
      "cell_type": "code",
      "source": [
        "count = 0"
      ],
      "metadata": {
        "id": "Ez5Gd9Ypfb4y"
      },
      "execution_count": 65,
      "outputs": []
    },
    {
      "cell_type": "code",
      "source": [
        "while count < 3:\n",
        "    print(\"Counting...\")\n",
        "    count += 1"
      ],
      "metadata": {
        "colab": {
          "base_uri": "https://localhost:8080/"
        },
        "id": "LeIIs9CMfd3L",
        "outputId": "f6ef4e37-85de-4476-a974-3d6a52c562fa"
      },
      "execution_count": 66,
      "outputs": [
        {
          "output_type": "stream",
          "name": "stdout",
          "text": [
            "Counting...\n",
            "Counting...\n",
            "Counting...\n"
          ]
        }
      ]
    },
    {
      "cell_type": "markdown",
      "source": [
        "##Collections\n",
        "\n",
        "ython has multiple versatile collection types, each with different features and capabilities. These are the most common collections we'll explore:\n",
        "\n",
        "Lists\n",
        "Tuples\n",
        "Dictionaries\n",
        "Sets\n",
        "Even though they all have different capabilities, there is one common property to all of them, and it's that Python collections are heterogeneous, that is, you can mix multiple types. That doesn't mean we should mix types, usually it's better to have a consistent collection. But it's still possible.\n",
        "\n",
        "Lists\n",
        "\n",
        "Lists are mutable, ordered sequences. We could argue, the most common collection type"
      ],
      "metadata": {
        "id": "hlatWMBXfg6F"
      }
    },
    {
      "cell_type": "code",
      "source": [
        "l = [3, 'Hello World', True]\n"
      ],
      "metadata": {
        "id": "EZ-niGmffjZi"
      },
      "execution_count": 67,
      "outputs": []
    },
    {
      "cell_type": "code",
      "source": [
        "len(l)"
      ],
      "metadata": {
        "colab": {
          "base_uri": "https://localhost:8080/"
        },
        "id": "YhNRLSpKfmjM",
        "outputId": "7257662e-4b68-4166-d7e9-a1c905b65137"
      },
      "execution_count": 68,
      "outputs": [
        {
          "output_type": "execute_result",
          "data": {
            "text/plain": [
              "3"
            ]
          },
          "metadata": {},
          "execution_count": 68
        }
      ]
    },
    {
      "cell_type": "code",
      "source": [
        "l[0]"
      ],
      "metadata": {
        "colab": {
          "base_uri": "https://localhost:8080/"
        },
        "id": "GqQOh4AQfpp6",
        "outputId": "476f0389-a6f1-433d-87ee-83bc747ccae9"
      },
      "execution_count": 69,
      "outputs": [
        {
          "output_type": "execute_result",
          "data": {
            "text/plain": [
              "3"
            ]
          },
          "metadata": {},
          "execution_count": 69
        }
      ]
    },
    {
      "cell_type": "code",
      "source": [
        "l[1]"
      ],
      "metadata": {
        "colab": {
          "base_uri": "https://localhost:8080/",
          "height": 36
        },
        "id": "Qvm59VivfptE",
        "outputId": "b2ce09ba-c4b3-4cfe-a108-73a903be172a"
      },
      "execution_count": 70,
      "outputs": [
        {
          "output_type": "execute_result",
          "data": {
            "text/plain": [
              "'Hello World'"
            ],
            "application/vnd.google.colaboratory.intrinsic+json": {
              "type": "string"
            }
          },
          "metadata": {},
          "execution_count": 70
        }
      ]
    },
    {
      "cell_type": "code",
      "source": [
        "l[-1]"
      ],
      "metadata": {
        "colab": {
          "base_uri": "https://localhost:8080/"
        },
        "id": "lwRFAkB-fpw6",
        "outputId": "69c16099-90b0-4bb0-9d57-ac8272092851"
      },
      "execution_count": 71,
      "outputs": [
        {
          "output_type": "execute_result",
          "data": {
            "text/plain": [
              "True"
            ]
          },
          "metadata": {},
          "execution_count": 71
        }
      ]
    },
    {
      "cell_type": "code",
      "source": [
        "l[-2]"
      ],
      "metadata": {
        "colab": {
          "base_uri": "https://localhost:8080/",
          "height": 36
        },
        "id": "V4BJL_C-fxxE",
        "outputId": "d73a74f6-1d61-466a-efd2-a10079f71618"
      },
      "execution_count": 72,
      "outputs": [
        {
          "output_type": "execute_result",
          "data": {
            "text/plain": [
              "'Hello World'"
            ],
            "application/vnd.google.colaboratory.intrinsic+json": {
              "type": "string"
            }
          },
          "metadata": {},
          "execution_count": 72
        }
      ]
    },
    {
      "cell_type": "code",
      "source": [
        "l.append('Python')"
      ],
      "metadata": {
        "id": "32fo9QtrfzWr"
      },
      "execution_count": 73,
      "outputs": []
    },
    {
      "cell_type": "code",
      "source": [
        "l"
      ],
      "metadata": {
        "colab": {
          "base_uri": "https://localhost:8080/"
        },
        "id": "1pZMO61Kf2HB",
        "outputId": "7289ae6b-d725-4d1c-ad13-84222fe35533"
      },
      "execution_count": 74,
      "outputs": [
        {
          "output_type": "execute_result",
          "data": {
            "text/plain": [
              "[3, 'Hello World', True, 'Python']"
            ]
          },
          "metadata": {},
          "execution_count": 74
        }
      ]
    },
    {
      "cell_type": "code",
      "source": [
        "'Python' in l"
      ],
      "metadata": {
        "colab": {
          "base_uri": "https://localhost:8080/"
        },
        "id": "kPeMBYLAf45k",
        "outputId": "872f8869-0ba2-4f3a-f848-dfe546e1761b"
      },
      "execution_count": 75,
      "outputs": [
        {
          "output_type": "execute_result",
          "data": {
            "text/plain": [
              "True"
            ]
          },
          "metadata": {},
          "execution_count": 75
        }
      ]
    },
    {
      "cell_type": "code",
      "source": [
        "'Ruby' in l"
      ],
      "metadata": {
        "colab": {
          "base_uri": "https://localhost:8080/"
        },
        "id": "ZLyYqc4Lf65E",
        "outputId": "239b43c0-7c13-4cef-cb9f-2a02c150ebec"
      },
      "execution_count": 76,
      "outputs": [
        {
          "output_type": "execute_result",
          "data": {
            "text/plain": [
              "False"
            ]
          },
          "metadata": {},
          "execution_count": 76
        }
      ]
    },
    {
      "cell_type": "markdown",
      "source": [
        "#Tuples\n",
        "\n",
        "Tuples are very similar to lists, but with a huge difference: they're immutable. That means, once a tuple is created, it can't be further modifie"
      ],
      "metadata": {
        "id": "scTN9cIbgCFn"
      }
    },
    {
      "cell_type": "code",
      "source": [
        "t = (3, 'Hello World', True)"
      ],
      "metadata": {
        "id": "fdC5kXTBgEh_"
      },
      "execution_count": 77,
      "outputs": []
    },
    {
      "cell_type": "markdown",
      "source": [
        "Same indexing:"
      ],
      "metadata": {
        "id": "44UTt4skgHvW"
      }
    },
    {
      "cell_type": "code",
      "source": [
        "t[0]"
      ],
      "metadata": {
        "colab": {
          "base_uri": "https://localhost:8080/"
        },
        "id": "QndvNWgdgIaV",
        "outputId": "df7d85c9-dcbf-44cb-c5c6-fa2f7d05d167"
      },
      "execution_count": 78,
      "outputs": [
        {
          "output_type": "execute_result",
          "data": {
            "text/plain": [
              "3"
            ]
          },
          "metadata": {},
          "execution_count": 78
        }
      ]
    },
    {
      "cell_type": "code",
      "source": [
        "t[-1]"
      ],
      "metadata": {
        "colab": {
          "base_uri": "https://localhost:8080/"
        },
        "id": "RS8Z4RZdgKbG",
        "outputId": "5e083400-a44f-40d3-db9d-2b3606163d4e"
      },
      "execution_count": 79,
      "outputs": [
        {
          "output_type": "execute_result",
          "data": {
            "text/plain": [
              "True"
            ]
          },
          "metadata": {},
          "execution_count": 79
        }
      ]
    },
    {
      "cell_type": "code",
      "source": [
        "'Hello World' in t"
      ],
      "metadata": {
        "colab": {
          "base_uri": "https://localhost:8080/"
        },
        "id": "-tQYwu6mgNIN",
        "outputId": "1393acee-111f-48be-f953-08c81c4ed196"
      },
      "execution_count": 80,
      "outputs": [
        {
          "output_type": "execute_result",
          "data": {
            "text/plain": [
              "True"
            ]
          },
          "metadata": {},
          "execution_count": 80
        }
      ]
    },
    {
      "cell_type": "markdown",
      "source": [
        "But no mods"
      ],
      "metadata": {
        "id": "ckVsxne1gQ_k"
      }
    },
    {
      "cell_type": "markdown",
      "source": [
        "#Dictionaries"
      ],
      "metadata": {
        "id": "NstEAe1QgTVp"
      }
    },
    {
      "cell_type": "code",
      "source": [
        "user = {\n",
        "    \"name\": \"Mary Smith\",\n",
        "    \"email\": \"mary@example.com\",\n",
        "    \"age\": 30,\n",
        "    \"subscribed\": True\n",
        "}\n"
      ],
      "metadata": {
        "id": "kSNmp_7xgQXQ"
      },
      "execution_count": 81,
      "outputs": []
    },
    {
      "cell_type": "code",
      "source": [
        "user"
      ],
      "metadata": {
        "colab": {
          "base_uri": "https://localhost:8080/"
        },
        "id": "GtG3ZIM9gXsm",
        "outputId": "b533fd05-6bf5-4c64-866d-41923d4aca60"
      },
      "execution_count": 82,
      "outputs": [
        {
          "output_type": "execute_result",
          "data": {
            "text/plain": [
              "{'name': 'Mary Smith',\n",
              " 'email': 'mary@example.com',\n",
              " 'age': 30,\n",
              " 'subscribed': True}"
            ]
          },
          "metadata": {},
          "execution_count": 82
        }
      ]
    },
    {
      "cell_type": "code",
      "source": [
        "user['email']"
      ],
      "metadata": {
        "colab": {
          "base_uri": "https://localhost:8080/",
          "height": 36
        },
        "id": "TG_WTjc4ga3V",
        "outputId": "97fcd262-b98d-45a2-f1a3-a65beb0b6bf0"
      },
      "execution_count": 83,
      "outputs": [
        {
          "output_type": "execute_result",
          "data": {
            "text/plain": [
              "'mary@example.com'"
            ],
            "application/vnd.google.colaboratory.intrinsic+json": {
              "type": "string"
            }
          },
          "metadata": {},
          "execution_count": 83
        }
      ]
    },
    {
      "cell_type": "code",
      "source": [
        "'age' in user"
      ],
      "metadata": {
        "colab": {
          "base_uri": "https://localhost:8080/"
        },
        "id": "Bd3ZE2YFgdNZ",
        "outputId": "7d6ce673-4660-498c-e064-17ef6bb402c6"
      },
      "execution_count": 84,
      "outputs": [
        {
          "output_type": "execute_result",
          "data": {
            "text/plain": [
              "True"
            ]
          },
          "metadata": {},
          "execution_count": 84
        }
      ]
    },
    {
      "cell_type": "code",
      "source": [
        "'last_name' in user"
      ],
      "metadata": {
        "colab": {
          "base_uri": "https://localhost:8080/"
        },
        "id": "-lpUAQHyge_4",
        "outputId": "d3236a8f-a70d-49fc-ecd8-7a1f6a795de4"
      },
      "execution_count": 85,
      "outputs": [
        {
          "output_type": "execute_result",
          "data": {
            "text/plain": [
              "False"
            ]
          },
          "metadata": {},
          "execution_count": 85
        }
      ]
    },
    {
      "cell_type": "markdown",
      "source": [
        "\n",
        "# Sets\n",
        "\n"
      ],
      "metadata": {
        "id": "d-WqOmr7gmmw"
      }
    },
    {
      "cell_type": "code",
      "source": [
        "s = {3, 1, 3, 7, 9, 1, 3, 1}"
      ],
      "metadata": {
        "id": "HjUNeiWUgjRb"
      },
      "execution_count": 86,
      "outputs": []
    },
    {
      "cell_type": "code",
      "source": [
        "s"
      ],
      "metadata": {
        "colab": {
          "base_uri": "https://localhost:8080/"
        },
        "id": "FVCvrtPZgrxV",
        "outputId": "bed52fd3-20ba-4c78-cae3-9aaf7d033578"
      },
      "execution_count": 87,
      "outputs": [
        {
          "output_type": "execute_result",
          "data": {
            "text/plain": [
              "{1, 3, 7, 9}"
            ]
          },
          "metadata": {},
          "execution_count": 87
        }
      ]
    },
    {
      "cell_type": "markdown",
      "source": [
        "Adding elements done with add:"
      ],
      "metadata": {
        "id": "8zsDoQ_zgt5n"
      }
    },
    {
      "cell_type": "code",
      "source": [
        "s.add(10)"
      ],
      "metadata": {
        "id": "4GT3Mjv5gufQ"
      },
      "execution_count": 88,
      "outputs": []
    },
    {
      "cell_type": "markdown",
      "source": [
        "Removing elements done with pop:"
      ],
      "metadata": {
        "id": "5MPwi_t4gxfA"
      }
    },
    {
      "cell_type": "code",
      "source": [
        "s.pop()"
      ],
      "metadata": {
        "colab": {
          "base_uri": "https://localhost:8080/"
        },
        "id": "5c0TU7dUg0dc",
        "outputId": "d0a5f2fe-a905-4389-84f9-3c1f14711cb9"
      },
      "execution_count": 89,
      "outputs": [
        {
          "output_type": "execute_result",
          "data": {
            "text/plain": [
              "1"
            ]
          },
          "metadata": {},
          "execution_count": 89
        }
      ]
    },
    {
      "cell_type": "markdown",
      "source": [
        "#Iterating collections"
      ],
      "metadata": {
        "id": "680VoFpZg6HJ"
      }
    },
    {
      "cell_type": "code",
      "source": [
        "l = [3, 'Hello World', True]\n"
      ],
      "metadata": {
        "id": "35pfG76Ng-wp"
      },
      "execution_count": 90,
      "outputs": []
    },
    {
      "cell_type": "code",
      "source": [
        "for elem in l:\n",
        "    print(elem)"
      ],
      "metadata": {
        "colab": {
          "base_uri": "https://localhost:8080/"
        },
        "id": "8GRbNVujhA88",
        "outputId": "29d9167e-bf0f-479b-846f-cc782df4adef"
      },
      "execution_count": 91,
      "outputs": [
        {
          "output_type": "stream",
          "name": "stdout",
          "text": [
            "3\n",
            "Hello World\n",
            "True\n"
          ]
        }
      ]
    },
    {
      "cell_type": "code",
      "source": [
        "for key in user:\n",
        "    print(key.title(), '=>', user[key])"
      ],
      "metadata": {
        "colab": {
          "base_uri": "https://localhost:8080/"
        },
        "id": "wVVDKOh-hD_F",
        "outputId": "8411f050-3c7d-4a8b-acf2-01c99e12c87e"
      },
      "execution_count": 92,
      "outputs": [
        {
          "output_type": "stream",
          "name": "stdout",
          "text": [
            "Name => Mary Smith\n",
            "Email => mary@example.com\n",
            "Age => 30\n",
            "Subscribed => True\n"
          ]
        }
      ]
    },
    {
      "cell_type": "markdown",
      "source": [
        "#Modules"
      ],
      "metadata": {
        "id": "vNuQIAPZhF9q"
      }
    },
    {
      "cell_type": "code",
      "source": [
        "import random"
      ],
      "metadata": {
        "id": "facfqmHLhI7Z"
      },
      "execution_count": 93,
      "outputs": []
    },
    {
      "cell_type": "code",
      "source": [
        "random.randint(0,99)"
      ],
      "metadata": {
        "colab": {
          "base_uri": "https://localhost:8080/"
        },
        "id": "SV68fmDHhKY0",
        "outputId": "8547da43-b90c-41be-9a9c-8470de46561d"
      },
      "execution_count": 94,
      "outputs": [
        {
          "output_type": "execute_result",
          "data": {
            "text/plain": [
              "86"
            ]
          },
          "metadata": {},
          "execution_count": 94
        }
      ]
    },
    {
      "cell_type": "markdown",
      "source": [
        "#Exceptions"
      ],
      "metadata": {
        "id": "d_E13ot1hOlH"
      }
    },
    {
      "cell_type": "code",
      "source": [
        "age = \"30\"\n"
      ],
      "metadata": {
        "id": "SMZRy3r2hRaq"
      },
      "execution_count": 95,
      "outputs": []
    },
    {
      "cell_type": "code",
      "source": [
        "if \"age\" > \"21\":\n",
        "    print(\"Allowed entrance\")"
      ],
      "metadata": {
        "colab": {
          "base_uri": "https://localhost:8080/"
        },
        "id": "DYZjmK3phWOE",
        "outputId": "37b52024-900c-4877-809e-d68e611195ea"
      },
      "execution_count": 96,
      "outputs": [
        {
          "output_type": "stream",
          "name": "stdout",
          "text": [
            "Allowed entrance\n"
          ]
        }
      ]
    },
    {
      "cell_type": "code",
      "source": [
        "try:\n",
        "    if age > 21:\n",
        "        print(\"Allowed entrance\")\n",
        "except:\n",
        "    print(\"Something went wrong\")\n"
      ],
      "metadata": {
        "colab": {
          "base_uri": "https://localhost:8080/"
        },
        "id": "I-ZPX2X_hdEU",
        "outputId": "d5321f8d-68cc-4d13-e3ce-fe93fda272bc"
      },
      "execution_count": 97,
      "outputs": [
        {
          "output_type": "stream",
          "name": "stdout",
          "text": [
            "Something went wrong\n"
          ]
        }
      ]
    },
    {
      "cell_type": "code",
      "source": [
        "try:\n",
        "    if age > 21:\n",
        "        print(\"Allowed entrance\")\n",
        "except TypeError:\n",
        "    print(\"Age is probably of a wrong type\")"
      ],
      "metadata": {
        "colab": {
          "base_uri": "https://localhost:8080/"
        },
        "id": "8tcgzNVthYfY",
        "outputId": "96362d2d-2cc9-4134-e5ac-b162442431ab"
      },
      "execution_count": 98,
      "outputs": [
        {
          "output_type": "stream",
          "name": "stdout",
          "text": [
            "Age is probably of a wrong type\n"
          ]
        }
      ]
    }
  ]
}