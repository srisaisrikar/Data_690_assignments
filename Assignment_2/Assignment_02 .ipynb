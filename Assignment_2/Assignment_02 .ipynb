{
 "cells": [
  {
   "cell_type": "markdown",
   "metadata": {},
   "source": [
    "# DATA_690 Assignment-2\n",
    "- Name: Sri Sai Srikar Bollapragada\n",
    "- Date: 09/11/2022"
   ]
  },
  {
   "cell_type": "markdown",
   "metadata": {},
   "source": [
    "## User Input\n",
    "- Taking 10 integer values from the user \n",
    "- detecting if the user makes a mistake and let the user retry without exiting the program. \n",
    "- The previously entered valid inputs should be kept and not lost."
   ]
  },
  {
   "cell_type": "code",
   "execution_count": 3,
   "metadata": {},
   "outputs": [
    {
     "name": "stdout",
     "output_type": "stream",
     "text": [
      "Please enter an integer value: 12\n",
      "Your entered value is:  12\n",
      "\n",
      "Please enter an integer value: 13\n",
      "Your entered value is:  13\n",
      "\n",
      "Please enter an integer value: 1\n",
      "Your entered value is:  1\n",
      "\n",
      "Please enter an integer value: 2\n",
      "Your entered value is:  2\n",
      "\n",
      "Please enter an integer value: weadf\n",
      "You entered a value which is not an integer. Please enter an integer value again !\n",
      "\n",
      "Please enter an integer value: asf.25\n",
      "You entered a value which is not an integer. Please enter an integer value again !\n",
      "\n",
      "Please enter an integer value: 26.56\n",
      "You entered a value which is not an integer. Please enter an integer value again !\n",
      "\n",
      "Please enter an integer value: q\n",
      "You entered a value which is not an integer. Please enter an integer value again !\n",
      "\n",
      "Please enter an integer value: 7\n",
      "Your entered value is:  7\n",
      "\n",
      "Please enter an integer value: 8\n",
      "Your entered value is:  8\n",
      "\n",
      "Please enter an integer value: 9\n",
      "Your entered value is:  9\n",
      "\n",
      "Please enter an integer value: 10\n",
      "Your entered value is:  10\n",
      "\n",
      "Please enter an integer value: 2\n",
      "Your entered value is:  2\n",
      "\n",
      "Please enter an integer value: 3\n",
      "Your entered value is:  3\n",
      "\n",
      "\n",
      "Here are your entered values: \n",
      " [12, 13, 1, 2, 7, 8, 9, 10, 2, 3]\n"
     ]
    }
   ],
   "source": [
    "user_list=[]                                                 # empty list for storing user input values\n",
    "counter=0                                                    # initiate a counter to end the loop when the user entered 10 values \n",
    "while True:\n",
    "    if counter==10:                                          # if user entered 10 integer values then the loop breaks\n",
    "        break\n",
    "    try:                                                     # try and except block to verify if the user entered integer values or not\n",
    "        user = int(input(\"Please enter an integer value: \"))# taking the input from the user\n",
    "        print(\"Your entered value is: \", user)\n",
    "        print()\n",
    "        user_list.append(user)                               # appending the user inputed values to the created empty list\n",
    "        counter=counter+1\n",
    "    except:\n",
    "        print(\"You entered a value which is not an integer. Please enter an integer value again !\")\n",
    "        print()\n",
    "print()\n",
    "print(\"Here are your entered values: \\n\", user_list)         # printing all the values entered by the user.\n",
    "\n",
    "\n"
   ]
  },
  {
   "cell_type": "markdown",
   "metadata": {},
   "source": [
    "## Stats --> Maximum, Minimum, Mean, Range, Variance, Standard Deviation \n",
    "- Calculate the following statistics from the 10 integers entered \n",
    "- Display the results back to the user"
   ]
  },
  {
   "cell_type": "code",
   "execution_count": 4,
   "metadata": {},
   "outputs": [
    {
     "name": "stdout",
     "output_type": "stream",
     "text": [
      "The Maxium value in the entered list is -->  13\n",
      "The Minimum value in the entered list is -->  3\n",
      "The mean of the list is -->  6.7\n",
      "The range of the list is -->  10\n",
      "The variance of the list is -->  19.566666666666666\n",
      "The standard deviation of the list is -->  9.783333333333333\n"
     ]
    }
   ],
   "source": [
    "# Maximum Value \n",
    "\n",
    "max_value = user_list[0]                           \n",
    "for i in  user_list:\n",
    "    if i>max_value:\n",
    "        max_value= i\n",
    "print('The Maxium value in the entered list is --> ',max_value)\n",
    "\n",
    "\n",
    "# Minimum Value\n",
    "\n",
    "min_value = user_list[0]                           \n",
    "for j in  user_list:\n",
    "    if j<min_value:\n",
    "        min_value= i\n",
    "print('The Minimum value in the entered list is --> ',min_value)\n",
    "\n",
    "# Mean\n",
    "\n",
    "summation = 0\n",
    "for k in user_list:\n",
    "    summation=summation+k\n",
    "mean=summation/len(user_list)\n",
    "print('The mean of the list is --> ',mean)\n",
    "\n",
    "\n",
    "# Range\n",
    "\n",
    "range=max_value - min_value\n",
    "print('The range of the list is --> ',range)\n",
    "\n",
    "# Variance\n",
    "\n",
    "sum_of_dev=0\n",
    "for x in user_list:\n",
    "    dev=((x-mean)**2)\n",
    "    sum_of_dev=sum_of_dev+dev\n",
    "variance = sum_of_dev/(len(user_list)-1)\n",
    "print('The variance of the list is --> ',variance)\n",
    "\n",
    "# Standard Deviation\n",
    "\n",
    "std_dev = variance*(1/2)\n",
    "print('The standard deviation of the list is --> ',std_dev)"
   ]
  },
  {
   "cell_type": "code",
   "execution_count": null,
   "metadata": {},
   "outputs": [],
   "source": []
  }
 ],
 "metadata": {
  "kernelspec": {
   "display_name": "Python 3",
   "language": "python",
   "name": "python3"
  },
  "language_info": {
   "codemirror_mode": {
    "name": "ipython",
    "version": 3
   },
   "file_extension": ".py",
   "mimetype": "text/x-python",
   "name": "python",
   "nbconvert_exporter": "python",
   "pygments_lexer": "ipython3",
   "version": "3.8.5"
  }
 },
 "nbformat": 4,
 "nbformat_minor": 4
}
