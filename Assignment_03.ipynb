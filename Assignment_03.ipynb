{
  "nbformat": 4,
  "nbformat_minor": 0,
  "metadata": {
    "colab": {
      "provenance": [],
      "authorship_tag": "ABX9TyMFSiKrrvSwwLdfGcAUrP6k",
      "include_colab_link": true
    },
    "kernelspec": {
      "name": "python3",
      "display_name": "Python 3"
    },
    "language_info": {
      "name": "python"
    }
  },
  "cells": [
    {
      "cell_type": "markdown",
      "metadata": {
        "id": "view-in-github",
        "colab_type": "text"
      },
      "source": [
        "<a href=\"https://colab.research.google.com/github/srisaisrikar/Data_690_assignments/blob/main/Assignment_03.ipynb\" target=\"_parent\"><img src=\"https://colab.research.google.com/assets/colab-badge.svg\" alt=\"Open In Colab\"/></a>"
      ]
    },
    {
      "cell_type": "markdown",
      "source": [
        "# Assignment 03\n",
        "- Date: 09/18/2022\n",
        "- Name: Sri Sai Srikar Bollapragada"
      ],
      "metadata": {
        "id": "f2gOxP1xul87"
      }
    },
    {
      "cell_type": "markdown",
      "source": [
        "# Question 1\n",
        "- Print them in a 10 by 10 matrix neatly arranged like the following (one space between each number)"
      ],
      "metadata": {
        "id": "ps-oCTQfutC3"
      }
    },
    {
      "cell_type": "code",
      "source": [
        "import random\n",
        "for i in range(10):                       # loop for row values\n",
        "  for j in range(10):                     # loop for column values\n",
        "    print(random.randint(0,9),end=\" \")    # prints random number between 0 to 9\n",
        "  print()                                 # to print the next pattern in the next line"
      ],
      "metadata": {
        "colab": {
          "base_uri": "https://localhost:8080/"
        },
        "id": "F752IWn8up0_",
        "outputId": "bccbaf7a-fc3f-4d53-d772-0bab1b6f54c8"
      },
      "execution_count": 2,
      "outputs": [
        {
          "output_type": "stream",
          "name": "stdout",
          "text": [
            "9 9 9 2 6 9 0 1 8 4 \n",
            "6 5 9 8 4 9 1 8 1 2 \n",
            "7 2 8 7 6 7 4 4 7 2 \n",
            "1 5 7 8 7 8 3 7 2 7 \n",
            "3 4 1 6 3 2 8 2 7 0 \n",
            "3 7 9 7 4 8 5 8 7 1 \n",
            "7 7 0 1 0 3 6 0 7 7 \n",
            "2 6 0 1 1 5 4 3 8 0 \n",
            "3 4 4 1 9 5 7 6 0 8 \n",
            "3 6 7 7 4 1 3 8 8 4 \n"
          ]
        }
      ]
    },
    {
      "cell_type": "markdown",
      "source": [
        "# Question 2\n",
        "- If the random number is an odd number, print \"@\" instead. like the following:"
      ],
      "metadata": {
        "id": "xJBucjGJuxxD"
      }
    },
    {
      "cell_type": "code",
      "source": [
        "for i in range (10):\n",
        "  for j in range(10):\n",
        "    p=random.randint(0,9)           # to store random value \n",
        "    if p%2==0:                      # checks if the random number is even number\n",
        "      print(p,end=\" \")\n",
        "    else:\n",
        "      print('@',end=\" \")\n",
        "  print()"
      ],
      "metadata": {
        "colab": {
          "base_uri": "https://localhost:8080/"
        },
        "id": "oWQTlIi3uveA",
        "outputId": "be492fa1-2ff2-4e7d-b712-9376c03f955a"
      },
      "execution_count": 3,
      "outputs": [
        {
          "output_type": "stream",
          "name": "stdout",
          "text": [
            "@ 2 6 @ @ @ 2 @ 8 @ \n",
            "@ 4 @ @ @ 6 @ @ 8 2 \n",
            "8 @ @ 8 @ @ @ 4 6 0 \n",
            "@ 4 2 @ @ @ @ @ 6 0 \n",
            "@ 8 8 @ 8 @ 0 2 8 4 \n",
            "4 2 4 0 4 @ @ 2 @ 0 \n",
            "@ 2 @ @ 4 @ @ 2 @ @ \n",
            "0 8 @ @ 6 @ 6 6 @ 0 \n",
            "@ @ @ 4 @ 8 0 @ 6 4 \n",
            "8 @ 2 @ 8 6 6 8 2 @ \n"
          ]
        }
      ]
    },
    {
      "cell_type": "markdown",
      "source": [
        "# Question 3\n",
        "- Calculate and Print the total of each row like the following (use \"*\" to separate the total from the numbers):"
      ],
      "metadata": {
        "id": "7vaty4lTu1tA"
      }
    },
    {
      "cell_type": "code",
      "source": [
        "import random\n",
        "for i in range(10):\n",
        "  sum=0                    # initiate sum to zero\n",
        "  for j in range(10):\n",
        "    p=random.randint(0,9)  # random number is assigned to p\n",
        "    sum=sum+p              # adding a random value to the sum\n",
        "    print(p,end=' ')\n",
        "  print('*',sum,end=' ')\n",
        "  print()"
      ],
      "metadata": {
        "colab": {
          "base_uri": "https://localhost:8080/"
        },
        "id": "R1hSgNL5uz1h",
        "outputId": "fc983d17-0f27-4485-efd2-e94b8da6d19b"
      },
      "execution_count": 4,
      "outputs": [
        {
          "output_type": "stream",
          "name": "stdout",
          "text": [
            "7 1 1 9 4 1 3 1 6 3 * 36 \n",
            "2 7 3 4 1 1 5 8 6 2 * 39 \n",
            "9 5 2 2 9 9 7 0 6 8 * 57 \n",
            "1 7 9 9 6 4 1 5 5 5 * 52 \n",
            "8 9 0 3 8 8 9 3 8 5 * 61 \n",
            "3 5 8 5 5 0 5 4 8 5 * 48 \n",
            "7 2 5 0 7 3 5 9 8 1 * 47 \n",
            "2 4 0 9 1 6 0 0 9 3 * 34 \n",
            "8 5 4 5 0 6 0 1 4 1 * 34 \n",
            "9 5 6 1 9 9 8 4 9 7 * 67 \n"
          ]
        }
      ]
    },
    {
      "cell_type": "markdown",
      "source": [
        "# Question 4\n",
        "- Surround the matrix with asterisks (*) like the following:"
      ],
      "metadata": {
        "id": "Ya6TOK-4u5lK"
      }
    },
    {
      "cell_type": "code",
      "source": [
        "import random\n",
        "print('***********************',end='')\n",
        "print()\n",
        "for i in range(10):\n",
        "  print('*',end=' ')\n",
        "  for j in range(10):\n",
        "    print(random.randint(0,9),end=\" \")\n",
        "  print('*',end=' ')\n",
        "  print()\n",
        "print('***********************',end='')\n",
        "\n"
      ],
      "metadata": {
        "colab": {
          "base_uri": "https://localhost:8080/"
        },
        "id": "IoeCtMw9u3kJ",
        "outputId": "e839155b-5f9d-471e-f7a7-e1d8e22494f9"
      },
      "execution_count": 5,
      "outputs": [
        {
          "output_type": "stream",
          "name": "stdout",
          "text": [
            "***********************\n",
            "* 5 0 9 7 4 2 5 7 7 5 * \n",
            "* 6 9 6 7 5 6 8 5 8 8 * \n",
            "* 3 2 6 2 2 8 7 1 2 0 * \n",
            "* 6 7 1 1 8 3 8 6 0 2 * \n",
            "* 5 5 6 6 8 9 6 7 0 4 * \n",
            "* 0 7 6 7 5 8 5 6 3 2 * \n",
            "* 3 7 8 4 0 4 1 5 0 8 * \n",
            "* 9 5 6 6 1 1 3 9 3 8 * \n",
            "* 3 6 9 7 3 6 4 7 9 1 * \n",
            "* 1 7 4 0 5 2 5 1 1 1 * \n",
            "***********************"
          ]
        }
      ]
    },
    {
      "cell_type": "markdown",
      "source": [
        "# Question 5 \n",
        "- Calculate and Print the total of each row and column like the following:"
      ],
      "metadata": {
        "id": "REYNYsDnu878"
      }
    },
    {
      "cell_type": "code",
      "source": [
        "mylst=[]                      # store the values in a list. \n",
        "for i in range(10):\n",
        "  a=[]                         \n",
        "  for j in range(10):\n",
        "    j=random.randint(0,9)\n",
        "    a.append(j)\n",
        "  mylst.append(a)\n",
        "\n",
        "# loop through the nested list of random values  \n",
        "sum_row=0                     # initiate the sum of row to zero\n",
        "sum_col=0                     # initiate the sum of columns to zero\n",
        "r=[]                          # empty list to append the sum of values in a row \n",
        "c=[]                          # empty list to append the sum of values in a row \n",
        "for i in range(10):\n",
        "  for j in range(10):\n",
        "    sum_row= sum_row+mylst[i][j]  \n",
        "    sum_col= sum_col+mylst[j][i]\n",
        "  r.append(sum_row)\n",
        "  c.append(sum_col)\n",
        "  sum_row=0     \n",
        "  sum_col=0\n",
        "\n",
        "# print the sum of rows and columns\n",
        "\n",
        "for i in range(10):\n",
        "  for j in range(10):\n",
        "    print(mylst[i][j],end=\"  \")\n",
        "  print(\"*\",r[i])\n",
        "  print()\n",
        "\n",
        "print(\"*  \" * 10,end=\"     \")\n",
        "print()\n",
        "\n",
        "for i in range(10):\n",
        "    print(c[i],end=\" \")\n"
      ],
      "metadata": {
        "colab": {
          "base_uri": "https://localhost:8080/"
        },
        "id": "RKAqt-TZu7LB",
        "outputId": "9c2c0ac7-1f49-4a89-8d23-c91f25fec038"
      },
      "execution_count": 6,
      "outputs": [
        {
          "output_type": "stream",
          "name": "stdout",
          "text": [
            "6  1  9  0  8  3  4  3  4  5  * 43\n",
            "\n",
            "2  2  5  7  7  9  9  7  6  5  * 59\n",
            "\n",
            "0  2  4  5  5  8  4  3  8  8  * 47\n",
            "\n",
            "9  0  1  1  4  8  6  8  8  6  * 51\n",
            "\n",
            "2  3  3  6  8  3  8  5  3  3  * 44\n",
            "\n",
            "6  2  7  9  2  0  6  9  2  6  * 49\n",
            "\n",
            "6  1  1  5  9  8  3  5  6  9  * 53\n",
            "\n",
            "6  7  2  0  8  3  8  9  6  5  * 54\n",
            "\n",
            "2  3  1  1  7  3  3  2  1  8  * 31\n",
            "\n",
            "9  8  5  2  8  1  8  6  1  9  * 57\n",
            "\n",
            "*  *  *  *  *  *  *  *  *  *       \n",
            "48 29 38 36 66 46 59 57 45 64 "
          ]
        }
      ]
    },
    {
      "cell_type": "code",
      "source": [],
      "metadata": {
        "id": "QilIJSmIu-7F"
      },
      "execution_count": null,
      "outputs": []
    }
  ]
}